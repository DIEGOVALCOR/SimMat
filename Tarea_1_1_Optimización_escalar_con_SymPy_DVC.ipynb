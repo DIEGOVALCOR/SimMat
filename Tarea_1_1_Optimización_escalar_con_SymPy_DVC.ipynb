{
  "cells": [
    {
      "cell_type": "markdown",
      "id": "dae16770",
      "metadata": {
        "id": "dae16770"
      },
      "source": [
        "# Optimización escalar con SymPy: criterio conocido"
      ]
    },
    {
      "cell_type": "markdown",
      "id": "09ba4558",
      "metadata": {
        "id": "09ba4558"
      },
      "source": [
        "Para la siguientes funciones encuentre los puntos críticos, grafique y diga si éste se trata de un máximo o mínimo, local o global."
      ]
    },
    {
      "cell_type": "code",
      "source": [
        "# Primero importamos las librerías que se usarán:\n",
        "import numpy as np\n",
        "import sympy as sym\n",
        "import matplotlib.pyplot as plt\n",
        "# Declaramos x como variable\n",
        "x = sym.var('x')"
      ],
      "metadata": {
        "id": "URZz4g4bZNMC"
      },
      "id": "URZz4g4bZNMC",
      "execution_count": 30,
      "outputs": []
    },
    {
      "cell_type": "markdown",
      "id": "3600ad24",
      "metadata": {
        "id": "3600ad24"
      },
      "source": [
        "1. $f(x)=x+\\frac{1}{x^2}$"
      ]
    },
    {
      "cell_type": "code",
      "source": [
        "# Declaramos f1 y obtenemos la función numérica con lambdify\n",
        "f1 = x + 1/x**2\n",
        "f1_num = sym.lambdify(x, f1, 'numpy')\n",
        "f1"
      ],
      "metadata": {
        "colab": {
          "base_uri": "https://localhost:8080/",
          "height": 51
        },
        "id": "LsKWzaW0ZZjP",
        "outputId": "964cb4ca-4884-4261-af53-2a51811e3832"
      },
      "id": "LsKWzaW0ZZjP",
      "execution_count": 31,
      "outputs": [
        {
          "output_type": "execute_result",
          "data": {
            "text/plain": [
              "x + x**(-2)"
            ],
            "text/latex": "$\\displaystyle x + \\frac{1}{x^{2}}$"
          },
          "metadata": {},
          "execution_count": 31
        }
      ]
    },
    {
      "cell_type": "markdown",
      "id": "39cfc1dd",
      "metadata": {
        "id": "39cfc1dd"
      },
      "source": [
        "2. $f(x)=1260+117x-9x^2$"
      ]
    },
    {
      "cell_type": "code",
      "source": [
        "# Declaramos f2 y obtenemos la función numérica con lambdify\n",
        "f2 = 1260 + 117*x - 9*x**2\n",
        "f2_num = sym.lambdify(x, f2, 'numpy')\n",
        "f2"
      ],
      "metadata": {
        "colab": {
          "base_uri": "https://localhost:8080/",
          "height": 38
        },
        "id": "vA8XvGrAZpkp",
        "outputId": "d5e8684e-d924-485b-91f7-e517ee2ba223"
      },
      "id": "vA8XvGrAZpkp",
      "execution_count": 32,
      "outputs": [
        {
          "output_type": "execute_result",
          "data": {
            "text/plain": [
              "-9*x**2 + 117*x + 1260"
            ],
            "text/latex": "$\\displaystyle - 9 x^{2} + 117 x + 1260$"
          },
          "metadata": {},
          "execution_count": 32
        }
      ]
    },
    {
      "cell_type": "markdown",
      "id": "65206d6e",
      "metadata": {
        "id": "65206d6e"
      },
      "source": [
        "3. $f(x)=5+x+\\frac{4}{x}$, para $x>0$"
      ]
    },
    {
      "cell_type": "code",
      "source": [
        "# Declaramos f3 y obtenemos la función numérica con lambdify\n",
        "f3 = 5 + x + 4/x\n",
        "f3_num = sym.lambdify(x, f3, 'numpy')\n",
        "f3"
      ],
      "metadata": {
        "colab": {
          "base_uri": "https://localhost:8080/",
          "height": 51
        },
        "id": "I4m_k_EnZw_L",
        "outputId": "6c90c396-c99f-46b8-8aa4-9b46c0f55781"
      },
      "id": "I4m_k_EnZw_L",
      "execution_count": 33,
      "outputs": [
        {
          "output_type": "execute_result",
          "data": {
            "text/plain": [
              "x + 5 + 4/x"
            ],
            "text/latex": "$\\displaystyle x + 5 + \\frac{4}{x}$"
          },
          "metadata": {},
          "execution_count": 33
        }
      ]
    },
    {
      "cell_type": "markdown",
      "id": "8fc86115",
      "metadata": {
        "id": "8fc86115"
      },
      "source": [
        "4. $f(x)=\\frac{15x}{2}\\sqrt{\\frac{x}{x-30}}$"
      ]
    },
    {
      "cell_type": "code",
      "source": [
        "# Declaramos f4 y obtenemos la función numérica con lambdify\n",
        "f4 = 15*x/2 * sym.sqrt(x/(x-30))\n",
        "f4_num = sym.lambdify(x, f4, 'numpy')\n",
        "f4"
      ],
      "metadata": {
        "colab": {
          "base_uri": "https://localhost:8080/",
          "height": 56
        },
        "id": "sBxNMDNlaEx-",
        "outputId": "7c3b23ba-a221-43ba-dff8-75ca23a610c6"
      },
      "id": "sBxNMDNlaEx-",
      "execution_count": 34,
      "outputs": [
        {
          "output_type": "execute_result",
          "data": {
            "text/plain": [
              "15*x*sqrt(x/(x - 30))/2"
            ],
            "text/latex": "$\\displaystyle \\frac{15 x \\sqrt{\\frac{x}{x - 30}}}{2}$"
          },
          "metadata": {},
          "execution_count": 34
        }
      ]
    },
    {
      "cell_type": "markdown",
      "id": "bd7f30fd",
      "metadata": {
        "id": "bd7f30fd"
      },
      "source": [
        "5. $f(x)=6-2x+\\sqrt{18-2x^2}$, para $-3\\leq x\\leq 3$"
      ]
    },
    {
      "cell_type": "code",
      "source": [
        "# Declaramos f5 y obtenemos la función numérica con lambdify\n",
        "f5 = 6 - 2*x + sym.sqrt(18 - 2*x**2)\n",
        "f5_num = sym.lambdify(x, f5, 'numpy')\n",
        "f5"
      ],
      "metadata": {
        "colab": {
          "base_uri": "https://localhost:8080/",
          "height": 41
        },
        "id": "O35dNM67aUR3",
        "outputId": "8517e2a0-300b-485a-ac4c-6756d791f189"
      },
      "id": "O35dNM67aUR3",
      "execution_count": 35,
      "outputs": [
        {
          "output_type": "execute_result",
          "data": {
            "text/plain": [
              "-2*x + sqrt(18 - 2*x**2) + 6"
            ],
            "text/latex": "$\\displaystyle - 2 x + \\sqrt{18 - 2 x^{2}} + 6$"
          },
          "metadata": {},
          "execution_count": 35
        }
      ]
    },
    {
      "cell_type": "markdown",
      "id": "de2ea1f9",
      "metadata": {
        "id": "de2ea1f9"
      },
      "source": [
        "6. $f(x)=\\frac{1}{4}x^4+\\frac{1}{3}x^3-x^2$ en el intervalo $[-3,1.7]$"
      ]
    },
    {
      "cell_type": "code",
      "source": [
        "# Declaramos f6 y obtenemos la función numérica con lambdify\n",
        "f6 = 1/4*x**4 + 1/3*x**3 - x**2\n",
        "f6_num = sym.lambdify(x, f6, 'numpy')\n",
        "f6"
      ],
      "metadata": {
        "colab": {
          "base_uri": "https://localhost:8080/",
          "height": 38
        },
        "id": "r3_t8H-xaUxQ",
        "outputId": "b72dae14-8f7f-407f-e011-e0710aec2c82"
      },
      "id": "r3_t8H-xaUxQ",
      "execution_count": 36,
      "outputs": [
        {
          "output_type": "execute_result",
          "data": {
            "text/plain": [
              "0.25*x**4 + 0.333333333333333*x**3 - x**2"
            ],
            "text/latex": "$\\displaystyle 0.25 x^{4} + 0.333333333333333 x^{3} - x^{2}$"
          },
          "metadata": {},
          "execution_count": 36
        }
      ]
    },
    {
      "cell_type": "markdown",
      "id": "4fdfe534",
      "metadata": {
        "id": "4fdfe534"
      },
      "source": [
        "7. $f(x)=100(1+\\cos(x)\\sin(x))$, para $x\\in[0.\\frac{\\pi}{2}]$"
      ]
    },
    {
      "cell_type": "code",
      "source": [
        "# Declaramos f7 y obtenemos la función numérica con lambdify\n",
        "f7 = 100*(1 + sym.cos(x)*sym.sin(x))\n",
        "f7_num = sym.lambdify(x, f7, 'numpy')\n",
        "f7"
      ],
      "metadata": {
        "colab": {
          "base_uri": "https://localhost:8080/",
          "height": 38
        },
        "id": "2_hjwYexavIm",
        "outputId": "243fa8d4-6786-4f01-b03d-e3b4fcdca8f1"
      },
      "id": "2_hjwYexavIm",
      "execution_count": 37,
      "outputs": [
        {
          "output_type": "execute_result",
          "data": {
            "text/plain": [
              "100*sin(x)*cos(x) + 100"
            ],
            "text/latex": "$\\displaystyle 100 \\sin{\\left(x \\right)} \\cos{\\left(x \\right)} + 100$"
          },
          "metadata": {},
          "execution_count": 37
        }
      ]
    },
    {
      "cell_type": "markdown",
      "source": [
        "### Ahora que ya declaramos todas las funciones, resolvemos cada una un un cuadro de código para poder reutilizar variables y no exceder el tamaño de este erchivo:\n",
        "NOTA: Se reusó el mismo código para cada función, únicamente se modifica la entrada inicial para especificar cual de las 7 ecuaciones se quiere resolver, además de especificar el rango de $x$ y el nombre con el que se quiere guardar la imagen de la gráfica.\n",
        "\n",
        "\n",
        "> Efectivamente, declaré con lambdify en vano cada función porque aqui se generaliza :)\n",
        "\n"
      ],
      "metadata": {
        "id": "5sijVCFZbr7M"
      },
      "id": "5sijVCFZbr7M"
    },
    {
      "cell_type": "code",
      "source": [
        "\"\"\"___________AQUI SE MODIFICA LA FUNCIÓN___________\"\"\"\n",
        "f = f7\n",
        "\n",
        "f_num = sym.lambdify(x, f, 'numpy') # Numerizamos a numpy con lambdify\n",
        "\n",
        "# Paso 1 Derivadas de f\n",
        "f_prime = f.diff(x) # Primera derivada\n",
        "print(f_prime)\n",
        "f_2prime = f_prime.diff(x) # Segunda derivada\n",
        "\n",
        "# Paso 2 gregamos a un arreglo los puntos críticos calculados por sympy\n",
        "cdots = sym.solve(f_prime, x) # Puntos críticos\n",
        "\n",
        "# Paso 3 Filtramos las soluciones para quedarnos solo con las reales\n",
        "realc = [float(sol) for sol in cdots if sol.is_real]\n",
        "print(f'El o los puntos son: {realc}')\n",
        "\n",
        "# Le decimos al usiario sin son máximos o mínimos (f(c)>0 ... mínimo, f(c)<0 ... máximo)\n",
        "f_2prime_num = sym.lambdify(x, f_2prime, 'numpy') # Aquí le decimos que use numpy para la función f_2prime que era simbolica\n",
        "for i in realc:\n",
        "    try:\n",
        "        if f_2prime_num(i) > 0:\n",
        "            print(f'El punto crítico {i} es un mínimo')\n",
        "        elif f_2prime_num(i) < 0:\n",
        "            print(f'El punto crítico {i} es un máximo')\n",
        "        elif f_2prime_num(i) == 0:\n",
        "            print(f'El punto crítico {i}, no aplica para el criterio de la segunda derivada') # GUARDAMOS PARA FUTURAS MODIFICACIONES (Automatizar por metodo gráfico)\n",
        "    except (TypeError, ValueError):\n",
        "        print(f'El punto crítico {i} no aplica para el criterio de la segunda derivada por indeterminación.')\n",
        "\n",
        "\n",
        "\"\"\"___________AQUI SE MODIFICAN LOS INTERVALOS___________\"\"\"\n",
        "\n",
        "# Comenzamos con x_min y x_max\n",
        "x_num = np.linspace(0, np.pi/2, 100)\n",
        "# Ahora con la función evaluada\n",
        "y_num = f_num(x_num)\n",
        "\n",
        "# Ahora creamos la gráfica, teniendo los datos de cada 'y' para cada 'x'\n",
        "plt.plot(x_num, y_num) # Aquí generamos la gráfica\n",
        "for i in realc: # Para cada punto crítico\n",
        "  plt.plot(i, f_num(i), 'ro') # Aquí generamos los puntos críticos y remarcamos con círculos rojos\n",
        "plt.grid() # Agregamos la cuadrícula\n",
        "plt.savefig(\"Funcion_7.png\") # Mostramos la gráfica\n"
      ],
      "metadata": {
        "colab": {
          "base_uri": "https://localhost:8080/",
          "height": 499
        },
        "id": "-e8uYyUTcE1E",
        "outputId": "c8a46ce3-78df-4906-9fb7-5ba9f5ad47da"
      },
      "id": "-e8uYyUTcE1E",
      "execution_count": 49,
      "outputs": [
        {
          "output_type": "stream",
          "name": "stdout",
          "text": [
            "-100*sin(x)**2 + 100*cos(x)**2\n",
            "El o los puntos son: [-0.7853981633974483, 0.7853981633974483]\n",
            "El punto crítico -0.7853981633974483 es un mínimo\n",
            "El punto crítico 0.7853981633974483 es un máximo\n"
          ]
        },
        {
          "output_type": "display_data",
          "data": {
            "text/plain": [
              "<Figure size 640x480 with 1 Axes>"
            ],
            "image/png": "[encoded data removed]"
          },
          "metadata": {}
        }
      ]
    }
  ],
  "metadata": {
    "kernelspec": {
      "display_name": "Python 3",
      "language": "python",
      "name": "python3"
    },
    "language_info": {
      "codemirror_mode": {
        "name": "ipython",
        "version": 3
      },
      "file_extension": ".py",
      "mimetype": "text/x-python",
      "name": "python",
      "nbconvert_exporter": "python",
      "pygments_lexer": "ipython3",
      "version": "3.8.8"
    },
    "colab": {
      "provenance": []
    }
  },
  "nbformat": 4,
  "nbformat_minor": 5
}