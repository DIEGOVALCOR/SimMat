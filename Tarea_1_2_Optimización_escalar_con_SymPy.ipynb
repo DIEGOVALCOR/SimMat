{
  "nbformat": 4,
  "nbformat_minor": 0,
  "metadata": {
    "colab": {
      "provenance": []
    },
    "kernelspec": {
      "name": "python3",
      "display_name": "Python 3"
    },
    "language_info": {
      "name": "python"
    }
  },
  "cells": [
    {
      "cell_type": "markdown",
      "source": [
        "# Problemas de optimización escalar\n",
        "Resuelva los siguientes problemas usando la librería `SymPy`. Use celdas en `Markdown` para explicar su procedimiento, así como los resultados obtenidos."
      ],
      "metadata": {
        "id": "wQWrkxnk8xAz"
      }
    },
    {
      "cell_type": "code",
      "source": [
        "# Primero importamos las librerías\n",
        "import sympy as sym\n",
        "import numpy as np\n",
        "import matplotlib.pyplot as plt"
      ],
      "metadata": {
        "id": "UvvmVu4TzJhT"
      },
      "execution_count": 2,
      "outputs": []
    },
    {
      "cell_type": "markdown",
      "source": [
        "1. El perímetro de un triángulo isósceles es de $10 cm$. ¿Cuánto deben medir sus lados para que el volumen del cuerpo generado por la rotación del triángulo en torno a su base sea el mayor posible? (Volumen de un cono $= \\frac{1}{3}\\pi r^2 h$, donde $r$ es el radio de la base y $h$ la altura del cono)."
      ],
      "metadata": {
        "id": "7c9ab28c82ao"
      }
    },
    {
      "cell_type": "markdown",
      "source": [
        "**Razonamiento:**\n",
        "\n",
        "Si se quiere maximizar el sólido de revolución que se proyectará al rotar el triángulo isósceles conociendo su perímetro, partimos de la relación de perímetro para un triángulo isósceles donde:\n",
        "$$\n",
        "Perímetro = 2L + B = 10\n",
        "$$\n",
        "Donde $L$ es el largo de cada lado (hay 2 iguales) y $B$ es la base del triángulo.\n",
        "Además, conocemos que $B = 2r$, por lo tanto, $L + r = 5$, despejando:\n",
        "$$r = 5 - L$$\n",
        "Otra relación que nos puede resultar útil es el teorema de pitágoras, que nos dice que $L^2 = r^2 + h^2$ de forma que despejamos $h = \\sqrt{L^2 - r^2}$ y reemplazamos $r$:\n",
        "$$h = \\sqrt{L^2 - (5 - L)^2}$$\n",
        "Ahora tomamos nuestros despejes para r y para h, y los reemplazamos en la ecuación de volúmen:\n",
        "$$\n",
        "V_{max} = \\frac{\\pi(5-L)^2\\sqrt{L^2 - (5 - L)^2}}{3}\n",
        "$$"
      ],
      "metadata": {
        "id": "adBq9pdRzsAn"
      }
    },
    {
      "cell_type": "code",
      "source": [
        "'''Ahora si comenzamos con el planteamiento de la ecuación y la solución numérica.'''\n",
        "# Declaramos la varible simbólica\n",
        "L = sym.var('L')\n",
        "V = (sym.pi*(5-L)**2*sym.sqrt(L**2 - (5-L)**2))/3\n",
        "V_num = sym.lambdify(L, V, 'numpy')\n",
        "V"
      ],
      "metadata": {
        "id": "qjLq0X9r88bz",
        "colab": {
          "base_uri": "https://localhost:8080/",
          "height": 66
        },
        "outputId": "a67f0c03-fcda-416c-cc62-a6e3bb875a8e"
      },
      "execution_count": 3,
      "outputs": [
        {
          "output_type": "execute_result",
          "data": {
            "text/plain": [
              "pi*(5 - L)**2*sqrt(L**2 - (5 - L)**2)/3"
            ],
            "text/latex": "$\\displaystyle \\frac{\\pi \\left(5 - L\\right)^{2} \\sqrt{L^{2} - \\left(5 - L\\right)^{2}}}{3}$"
          },
          "metadata": {},
          "execution_count": 3
        }
      ]
    },
    {
      "cell_type": "code",
      "source": [
        "# Ahora diferenciamos para encontrar los puntos críticos y para evaluar el criterio de la segunda derivada\n",
        "V_diff = sym.diff(V, L)\n",
        "V_diff2 = sym.diff(V_diff, L)\n",
        "V_diff2_num = sym.lambdify(L, V_diff2, 'numpy')"
      ],
      "metadata": {
        "id": "N82NhbVE-iHC"
      },
      "execution_count": 4,
      "outputs": []
    },
    {
      "cell_type": "code",
      "source": [
        "# Encontramos los puntos críticos\n",
        "c = sym.solve(V_diff, L)\n",
        "c"
      ],
      "metadata": {
        "colab": {
          "base_uri": "https://localhost:8080/"
        },
        "id": "iqylkWwA_HmE",
        "outputId": "279ed8c0-c362-46a9-ecf6-4a7ffe12f3f2"
      },
      "execution_count": 5,
      "outputs": [
        {
          "output_type": "execute_result",
          "data": {
            "text/plain": [
              "[3, 5]"
            ]
          },
          "metadata": {},
          "execution_count": 5
        }
      ]
    },
    {
      "cell_type": "code",
      "source": [
        "# Buscamos saber cuál es el máximo y el mínimo\n",
        "for i in c:\n",
        "  try:\n",
        "    if V_diff2_num(i) < 0:\n",
        "      print(f'El punto crítico {i} es un máximo')\n",
        "    elif V_diff2_num(i) > 0:\n",
        "      print(f'El punto crítico {i} es un mínimo')\n",
        "  except:\n",
        "     print(f'El punto crítico {i} no aplica para el cirterio de la segunda derivada')"
      ],
      "metadata": {
        "colab": {
          "base_uri": "https://localhost:8080/"
        },
        "id": "XVcpu3ZH_NKa",
        "outputId": "71843fca-eb6a-46dc-c64f-f6debc27b27c"
      },
      "execution_count": 6,
      "outputs": [
        {
          "output_type": "stream",
          "name": "stdout",
          "text": [
            "El punto crítico 3 no aplica para el cirterio de la segunda derivada\n",
            "El punto crítico 5 no aplica para el cirterio de la segunda derivada\n"
          ]
        }
      ]
    },
    {
      "cell_type": "code",
      "source": [
        "# Como no funcionó dicho criterio, graficamos.\n",
        "x_num = np.linspace(0, 7, 100)\n",
        "y_num = V_num(x_num)\n",
        "plt.plot(x_num, y_num)\n",
        "plt.plot(float(c[0]), V_num(float(c[0])), 'ro')\n",
        "plt.plot(float(c[1]), V_num(float(c[1])), 'ro')\n",
        "plt.grid()\n",
        "plt.show()"
      ],
      "metadata": {
        "colab": {
          "base_uri": "https://localhost:8080/",
          "height": 465
        },
        "id": "mExfjQI1A59t",
        "outputId": "5ffcf3e6-db10-4d2f-9d26-8560c8344e53"
      },
      "execution_count": 7,
      "outputs": [
        {
          "output_type": "stream",
          "name": "stderr",
          "text": [
            "<lambdifygenerated-1>:2: RuntimeWarning: invalid value encountered in sqrt\n",
            "  return (1/3)*pi*(5 - L)**2*sqrt(L**2 - (5 - L)**2)\n"
          ]
        },
        {
          "output_type": "display_data",
          "data": {
            "text/plain": [
              "<Figure size 640x480 with 1 Axes>"
            ],
            "image/png": "[encoded data removed]"
          },
          "metadata": {}
        }
      ]
    },
    {
      "cell_type": "code",
      "source": [
        "print(f'Los puntos críticos son {c}, donde {c[0]} es un máximo, y {c[1]} un mínimo.')"
      ],
      "metadata": {
        "colab": {
          "base_uri": "https://localhost:8080/"
        },
        "id": "pxGVTpacB-Px",
        "outputId": "13bac94f-40b5-41a4-deb5-102d701db0b2"
      },
      "execution_count": 8,
      "outputs": [
        {
          "output_type": "stream",
          "name": "stdout",
          "text": [
            "Los puntos críticos son [3, 5], donde 3 es un máximo, y 5 un mínimo.\n"
          ]
        }
      ]
    },
    {
      "cell_type": "markdown",
      "source": [
        "2. Disponemos de una barra de aluminio de 6 metros para construir una portería de fútbol. Si queremos que el área de la portería sea máxima, ¿cuánto deben medir los postes y el travesaño?"
      ],
      "metadata": {
        "id": "1kvio5Eq8_J4"
      }
    },
    {
      "cell_type": "markdown",
      "source": [
        "**Razonamiento:**\n",
        "\n",
        "Si lo que se busca maximizar el área de la portería en base a la cantidad de material que tenemos para armarla, primero debemos plantear las funciones:\n",
        "\n",
        "$$ Perímetro = 6 = 2L + T $$\n",
        "\n",
        "En donde $L$ es cada lado de la portería y $T$ el travesaño o techo de esta.\n",
        "\n",
        "Si lo que queremos es maximizar el área planteamos la ecuación donde $A = LT$, entonces dejamos la ecuación en función de una sola variable.\n",
        "\n",
        "$$ A_{max} = L(6-2L) $$\n",
        "\n",
        "Ahora me daré el lujo de saltarme el detalle en los comentarios del código y directamente hacer los procedimientos."
      ],
      "metadata": {
        "id": "ZzIOAdvRoH7Q"
      }
    },
    {
      "cell_type": "code",
      "source": [
        "# Comenzamos con la optimización:\n",
        "L = sym.var('L')\n",
        "def maxA(L):\n",
        "  return L*(6-2*L)\n",
        "maxA(L)"
      ],
      "metadata": {
        "id": "crqDqG8z9EjH",
        "colab": {
          "base_uri": "https://localhost:8080/",
          "height": 38
        },
        "outputId": "34db273e-29ff-4521-cabd-9a54d08d609d"
      },
      "execution_count": 10,
      "outputs": [
        {
          "output_type": "execute_result",
          "data": {
            "text/plain": [
              "L*(6 - 2*L)"
            ],
            "text/latex": "$\\displaystyle L \\left(6 - 2 L\\right)$"
          },
          "metadata": {},
          "execution_count": 10
        }
      ]
    },
    {
      "cell_type": "code",
      "source": [
        "dL = sym.diff(maxA(L), L)\n",
        "d2L = sym.diff(dL, L)\n",
        "dL"
      ],
      "metadata": {
        "colab": {
          "base_uri": "https://localhost:8080/",
          "height": 38
        },
        "id": "Jl4Mp9VuprLf",
        "outputId": "95b2811c-1046-4728-f71c-6e3d4784a1e9"
      },
      "execution_count": 14,
      "outputs": [
        {
          "output_type": "execute_result",
          "data": {
            "text/plain": [
              "6 - 4*L"
            ],
            "text/latex": "$\\displaystyle 6 - 4 L$"
          },
          "metadata": {},
          "execution_count": 14
        }
      ]
    },
    {
      "cell_type": "code",
      "source": [
        "c2 = sym.solve(dL, L)\n",
        "c2"
      ],
      "metadata": {
        "colab": {
          "base_uri": "https://localhost:8080/"
        },
        "id": "3Jag02fWp2VW",
        "outputId": "6dcfd7d2-2cb5-4ea4-e73a-86d0c2185c65"
      },
      "execution_count": 15,
      "outputs": [
        {
          "output_type": "execute_result",
          "data": {
            "text/plain": [
              "[3/2]"
            ]
          },
          "metadata": {},
          "execution_count": 15
        }
      ]
    },
    {
      "cell_type": "code",
      "source": [
        "for i in c2:\n",
        "  try:\n",
        "    if maxA(i) < 0:\n",
        "      print(f'El punto crítico {i} es un máximo')\n",
        "    elif maxA(i) > 0:\n",
        "      print(f'El punto crítico {i} es un mínimo')\n",
        "  except:\n",
        "     print(f'El punto crítico {i} no aplica para el cirterio de la segunda derivada')"
      ],
      "metadata": {
        "colab": {
          "base_uri": "https://localhost:8080/"
        },
        "id": "NyHQiDBRp-BO",
        "outputId": "a23e45b2-e975-4eea-c4f9-696acf9933cc"
      },
      "execution_count": 16,
      "outputs": [
        {
          "output_type": "stream",
          "name": "stdout",
          "text": [
            "El punto crítico 3/2 es un mínimo\n"
          ]
        }
      ]
    },
    {
      "cell_type": "code",
      "source": [
        "x_num2 = np.linspace(0, 6, 100)\n",
        "y_num2 = maxA(x_num2)\n",
        "plt.plot(x_num2, y_num2)\n",
        "plt.plot(float(c2[0]), maxA(float(c2[0])), 'ro')\n",
        "plt.grid()\n",
        "plt.show()"
      ],
      "metadata": {
        "colab": {
          "base_uri": "https://localhost:8080/",
          "height": 430
        },
        "id": "R8KrXopRqNHm",
        "outputId": "fe8c1970-422f-4cc0-cb08-3735d65ec88e"
      },
      "execution_count": 19,
      "outputs": [
        {
          "output_type": "display_data",
          "data": {
            "text/plain": [
              "<Figure size 640x480 with 1 Axes>"
            ],
            "image/png": "[encoded data removed]"
          },
          "metadata": {}
        }
      ]
    },
    {
      "cell_type": "markdown",
      "source": [
        "**Resultados:**\n",
        "\n",
        "Obtuvimos que el Largo de cada lado para maximizar el área debe ser de 1.5 metros, y por lo tanto el travesaño debe ser de 3 metros, y de esta forma se maximiza el área de la portería."
      ],
      "metadata": {
        "id": "1d4C7xIaqpju"
      }
    }
  ]
}