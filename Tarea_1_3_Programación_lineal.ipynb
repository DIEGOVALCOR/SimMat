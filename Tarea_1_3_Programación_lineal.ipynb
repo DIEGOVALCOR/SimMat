{
  "cells": [
    {
      "cell_type": "markdown",
      "metadata": {
        "id": "RxZ0fDj_Pd52"
      },
      "source": [
        "# Tarea - Programación lineal"
      ]
    },
    {
      "cell_type": "markdown",
      "metadata": {
        "id": "Am0FTCO_Pd54"
      },
      "source": [
        "### Diseño de la Dieta Óptima\n",
        "\n",
        "Se quiere producir comida para gatos de la manera más barata, no obstante se debe también asegurar que se cumplan los datos requeridos de analisis nutricional. Por lo que se quiere variar la cantidad de cada ingrediente para cumplir con los estandares nutricionales. Los requisitos que se tienen es que en $100$ gramos, se deben tener **por lo menos** $8$ gramos de proteína y $6$ gramos de grasa. Así mismo, no se debe tener más de $2$ gramos de fibra y $0.4$ gramos de sal.  \n",
        "\n",
        "Los datos nutricionales se pueden obtener de la siguiente tabla:\n",
        "\n",
        "Ingrediente|Proteína|Grasa|Fibra|Sal\n",
        ":----|----|----|----|----\n",
        "Pollo|  10.0%|08.0%|00.1%|00.2%\n",
        "Carne|  20.0%|10.0%|00.5%|00.5%\n",
        "Cordero|15.0%|11.0%|00.5%|00.7%\n",
        "Arroz|  00.0%|01.0%|10.0%|00.2%\n",
        "Trigo|  04.0%|01.0%|15.0%|00.8%\n",
        "Gel|    00.0%|00.0%|00.0%|00.0%\n",
        "\n",
        "Los costos de cada producto son:\n",
        "\n",
        "Ingrediente|Costo por gramo\n",
        ":----|----\n",
        "Pollo|$\\$$0.013\n",
        "Carne|$\\$$0.008\n",
        "Cordero|$\\$$0.010\n",
        "Arroz|$\\$$0.002\n",
        "Trigo|$\\$$0.005\n",
        "Gel|$\\$$0.001    \n",
        "\n",
        "Lo que se busca optimizar en este caso es la cantidad de productos que se debe utilizar en la comida de gato, minimizando el costo total. Para simplificar la notación use las siguientes variables:\n",
        "\n",
        "+ $x_1:$ Gramos de pollo  \n",
        "+ $x_2:$ Gramos de carne  \n",
        "+ $x_3:$ Gramos de cordero  \n",
        "+ $x_4:$ Gramos de arroz  \n",
        "+ $x_5:$ Gramos de trigo  \n",
        "+ $x_6:$ Gramos de gel\n",
        "\n",
        "La tarea consiste en plantear el problemade programación lineal que permita satisfacer las necesidades alimenticias del gato al tiempo que minimice el costo total y resolverlo con `linprog`."
      ]
    },
    {
      "cell_type": "markdown",
      "source": [
        "Planteamos primero el costo, que es lo que se quiere minimizar:\n",
        "* $ Costo_{min} = 0.013x_1 + 0.008x_2 + 0.01x_3 + 0.002x_4 + 0.005x_5 + 0.001x_6 $\n",
        "\n",
        "\n",
        "Planteamos la condición principal que es que en 100 gramos de producto, debe haber por lo menos 8 g de proteínas, 6 de grasa, por otro lado, debe de contener **menos** de 2 gramos de fibra, y 0.4 gramos de sal.\n",
        "\n",
        "Las ecuaciones son las siguientes:\n",
        "* $ x_1 + x_2 + x_3 + x_4 + x_5 + x_6 = 100 ; \\; $ El total debe ser 100 g.\n",
        "* $ 0.1x_1 + 0.2x_2 + 0.15x_3 + 0.04x_5 \\geq 8 ; \\; $ Proteínas.\n",
        "* $ 0.08x_1 + 0.1x_2 + 0.11x_3 + 0.01x_4 + 0.01x_5 \\geq 6 ; \\; $ Grasas.\n",
        "* $ 0.001x_1 + 0.005x_2 + 0.005x_3 + 0.1x_4 + 0.15x_5 \\leq 2 ; \\; $ Fibras.\n",
        "* $ 0.002x_1 + 0.005x_2 + 0.007x_3 + 0.002x_4 + 0.008x_5 \\leq 0.4 ; \\; $ Sal.\n",
        "\n",
        "En donde las condiciones serán la parte de la izq de cada inecuación dentro de la matriz A, el lado derecho lo que debe cumplir en el vector b, y el costo en el vector c, se usará el comando `opt.linprog(c, A, b)`"
      ],
      "metadata": {
        "id": "SmXaPjL_P_B9"
      }
    },
    {
      "cell_type": "code",
      "source": [
        "# Ahora importamos librerías y definimos función de costo, matrices y vectores\n",
        "import numpy as np\n",
        "import scipy.optimize as opt"
      ],
      "metadata": {
        "id": "4CdcPYT_P-qw"
      },
      "execution_count": 2,
      "outputs": []
    },
    {
      "cell_type": "code",
      "execution_count": 6,
      "metadata": {
        "id": "Xm7F75pdPd56",
        "colab": {
          "base_uri": "https://localhost:8080/"
        },
        "outputId": "6e0b1cbd-e312-41e9-ac63-dc80dd414d02"
      },
      "outputs": [
        {
          "output_type": "execute_result",
          "data": {
            "text/plain": [
              "        message: Optimization terminated successfully. (HiGHS Status 7: Optimal)\n",
              "        success: True\n",
              "         status: 0\n",
              "            fun: 0.52\n",
              "              x: [ 0.000e+00  6.000e+01  0.000e+00  0.000e+00  0.000e+00\n",
              "                   4.000e+01]\n",
              "            nit: 2\n",
              "          lower:  residual: [ 0.000e+00  6.000e+01  0.000e+00  0.000e+00\n",
              "                              0.000e+00  4.000e+01]\n",
              "                 marginals: [ 6.400e-03  0.000e+00  1.300e-03  3.000e-04\n",
              "                              3.300e-03  0.000e+00]\n",
              "          upper:  residual: [       inf        inf        inf        inf\n",
              "                                    inf        inf]\n",
              "                 marginals: [ 0.000e+00  0.000e+00  0.000e+00  0.000e+00\n",
              "                              0.000e+00  0.000e+00]\n",
              "          eqlin:  residual: [ 0.000e+00]\n",
              "                 marginals: [ 1.000e-03]\n",
              "        ineqlin:  residual: [ 4.000e+00  0.000e+00  1.700e+00  1.000e-01]\n",
              "                 marginals: [-0.000e+00 -7.000e-02 -0.000e+00 -0.000e+00]\n",
              " mip_node_count: 0\n",
              " mip_dual_bound: 0.0\n",
              "        mip_gap: 0.0"
            ]
          },
          "metadata": {},
          "execution_count": 6
        }
      ],
      "source": [
        "c = np.array([0.013, 0.008, 0.01, 0.002, 0.005, 0.001])\n",
        "A_eq = np.array([[1, 1, 1, 1, 1, 1]])\n",
        "b_eq = np.array([100])\n",
        "\n",
        "A = np.array([\n",
        "    [-0.1, -0.2, -0.15, 0, -0.04, 0],\n",
        "    [-0.08, -0.1, -0.11, -0.01, -0.01, 0],\n",
        "    [0.001, 0.005, 0.005, 0.1, 0.15, 0],\n",
        "    [0.002, 0.005, 0.007, 0.002, 0.008, 0]\n",
        "])\n",
        "b = np.array([-8, -6, 2, 0.4])\n",
        "\n",
        "opt.linprog(c, A_ub=A, b_ub=b, A_eq=A_eq, b_eq=b_eq)"
      ]
    },
    {
      "cell_type": "markdown",
      "source": [
        "**Resultados:**\n",
        "\n",
        "Los resultados más óptimos para reducir el precio son utilizar 60 gramos de $x_2$ (carne) y 40 de $x_6$ (gel), dando un total del precio de $ \\$ 0.52 $."
      ],
      "metadata": {
        "id": "E5oJBlxQuYao"
      }
    },
    {
      "cell_type": "markdown",
      "metadata": {
        "id": "WqU6bYykPd56"
      },
      "source": [
        "### Problema de distribución de energía eléctrica\n",
        "\n",
        "La Comisión Federal de Electricidad **(CFE)** dispone de cuatro plantas de generación para satisfacer la demanda diaria eléctrica en cuatro ciudades, Guadalajara, León y Morelia. Las plantas $1$, $2$ y $3$ pueden satisfacer $80$, $40$ y $60$ millones de KW al día respectivamente. Las necesidades de las ciudades de Guadalajara, León y Morelia son de $70$, $40$ y $70$ millones de Kw al día respectivamente.\n",
        "\n",
        "\n",
        "Los costos asociados al envío de suministro energético por cada millón de Kw entre cada planta y cada ciudad son los registrados en la siguiente tabla.\n",
        "\n",
        "-|Guadalajara|León|Morelia\n",
        ":----|----|----|----\n",
        "Planta 1|5|2|7\n",
        "Planta 2|3|6|6\n",
        "Planta 3|6|1|2\n",
        "\n",
        "Y por último, las restricciones del problema, van a estar dadas por las capacidades de oferta y demanda de cada planta (en millones de KW) y cada ciudad.\n",
        "\n",
        "Para simplificar la notación use las siguientes variables:\n",
        "\n",
        "+ $x_1$: Kw (en millones) distribuidos de la Planta 1 a Guadalajara\n",
        "+ $x_2$: Kw (en millones) distribuidos de la Planta 1 a León\n",
        "+ $x_3$: Kw (en millones) distribuidos de la Planta 1 a Morelia\n",
        "+ $x_4$: Kw (en millones) distribuidos de la Planta 2 a Guadalajara\n",
        "+ $x_5$: Kw (en millones) distribuidos de la Planta 2 a León\n",
        "+ $x_6$: Kw (en millones) distribuidos de la Planta 2 a Morelia\n",
        "+ $x_7$: Kw (en millones) distribuidos de la Planta 3 a Guadalajara\n",
        "+ $x_8$: Kw (en millones) distribuidos de la Planta 3 a León\n",
        "+ $x_9$: Kw (en millones) distribuidos de la Planta 3 a Morelia\n",
        "\n",
        "La tarea consiste en plantear el problema de programación lineal que permita satisfacer las necesidades de todas las ciudades al tiempo que minimice los costos asociados a la distribución y resolverlo con `linprog`."
      ]
    },
    {
      "cell_type": "code",
      "execution_count": 8,
      "metadata": {
        "id": "qk0yk7W5Pd57",
        "colab": {
          "base_uri": "https://localhost:8080/"
        },
        "outputId": "e9eefe43-8c09-4fe1-b1ed-5f033bb6c795"
      },
      "outputs": [
        {
          "output_type": "execute_result",
          "data": {
            "text/plain": [
              "        message: Optimization terminated successfully. (HiGHS Status 7: Optimal)\n",
              "        success: True\n",
              "         status: 0\n",
              "            fun: 540.0\n",
              "              x: [ 3.000e+01  4.000e+01  1.000e+01  4.000e+01  0.000e+00\n",
              "                   0.000e+00  0.000e+00  0.000e+00  6.000e+01]\n",
              "            nit: 6\n",
              "          lower:  residual: [ 3.000e+01  4.000e+01  1.000e+01  4.000e+01\n",
              "                              0.000e+00  0.000e+00  0.000e+00  0.000e+00\n",
              "                              6.000e+01]\n",
              "                 marginals: [ 0.000e+00  0.000e+00  0.000e+00  0.000e+00\n",
              "                              6.000e+00  1.000e+00  6.000e+00  4.000e+00\n",
              "                              0.000e+00]\n",
              "          upper:  residual: [       inf        inf        inf        inf\n",
              "                                    inf        inf        inf        inf\n",
              "                                    inf]\n",
              "                 marginals: [ 0.000e+00  0.000e+00  0.000e+00  0.000e+00\n",
              "                              0.000e+00  0.000e+00  0.000e+00  0.000e+00\n",
              "                              0.000e+00]\n",
              "          eqlin:  residual: [ 0.000e+00  0.000e+00  0.000e+00]\n",
              "                 marginals: [ 5.000e+00  2.000e+00  7.000e+00]\n",
              "        ineqlin:  residual: [ 0.000e+00  0.000e+00  0.000e+00]\n",
              "                 marginals: [-0.000e+00 -2.000e+00 -5.000e+00]\n",
              " mip_node_count: 0\n",
              " mip_dual_bound: 0.0\n",
              "        mip_gap: 0.0"
            ]
          },
          "metadata": {},
          "execution_count": 8
        }
      ],
      "source": [
        "# Por cuestiones prácticas nos ahorraremos las celdas de markdown, directamebte haremos la solución matriz/vectorial.\n",
        "c = np.array([5, 2, 7, 3, 6, 6, 6, 1, 2])\n",
        "\n",
        "# Condiciones desiguales o iguales. (Suministro de las plantas)\n",
        "A_ub = np.array([\n",
        "    [1, 1, 1, 0, 0, 0, 0, 0, 0],  # Planta 1\n",
        "    [0, 0, 0, 1, 1, 1, 0, 0, 0],  # Planta 2\n",
        "    [0, 0, 0, 0, 0, 0, 1, 1, 1]   # Planta 3\n",
        "])\n",
        "b_ub = np.array([80, 40, 60])\n",
        "\n",
        "# Condiciones de igualdad. (Demanda de la ciudad)\n",
        "A_eq = np.array([\n",
        "    [1, 0, 0, 1, 0, 0, 1, 0, 0],  # Guadalajara\n",
        "    [0, 1, 0, 0, 1, 0, 0, 1, 0],  # León\n",
        "    [0, 0, 1, 0, 0, 1, 0, 0, 1]   # Morelia\n",
        "])\n",
        "b_eq = np.array([70, 40, 70])\n",
        "\n",
        "opt.linprog(c, A_ub=A_ub, b_ub=b_ub, A_eq=A_eq, b_eq=b_eq)"
      ]
    },
    {
      "cell_type": "markdown",
      "source": [
        "**Resultados:**\n",
        "\n",
        "El costo minimizado que satisface las necesidades es de $ \\$ 540 $, esto se logra con lo siguiente. (con las unidades en millones).\n",
        "\n",
        "* Distribuir de la planta 1: 30 kW a Guadalajara, 40 a Leon y 10 a Morelia.\n",
        "* Distribuir de la planta 2: 40 kW a Guadalajara.\n",
        "* Distribuir de la planta 3: 60 kW a Morelia."
      ],
      "metadata": {
        "id": "6vsRpupj1bSp"
      }
    },
    {
      "cell_type": "markdown",
      "metadata": {
        "id": "MuZkcMeLPd57"
      },
      "source": [
        "### Fábrica de focos\n",
        "\n",
        "Una fábrica produce focos incandesentes y los vende a 4.5 u.m., además de focos ahorradores que vende a 6 u.m. cada uno. La producción está limitada a 400 focos incandesentes y 300 focos ahorradores al día, además de no poder producir más de 500 focos en total.\n",
        "\n",
        "Si la fábrica vende toda su producción, determina cuántos focos incandesentes y cuántos focos ahorradores debe producir para obtener los máximos ingresos posibles y cuáles serían éstos."
      ]
    },
    {
      "cell_type": "markdown",
      "metadata": {
        "id": "897c12cc"
      },
      "source": [
        "Variables:\n",
        "* $x_1$: Número de focos incandescentes\n",
        "* $x_2$: Número de focos ahorradores\n",
        "\n",
        "El objetivo es maximizar ingresos, lo que equivale a minimizar el negativo de los ingresos, entonces.\n",
        "$$ Ingreso_{min} = -4.5x_1 - 6x_2 $$\n",
        "\n",
        "Restricciones:\n",
        "* $x_1 \\leq 400$\n",
        "* $x_2 \\leq 300$\n",
        "* $x_1 + x_2 \\leq 500$\n",
        "* $x_1 \\geq 0, x_2 \\geq 0$"
      ]
    },
    {
      "cell_type": "code",
      "metadata": {
        "colab": {
          "base_uri": "https://localhost:8080/"
        },
        "id": "870b89fe",
        "outputId": "9e2e366e-af4f-4ce4-a1f6-33477ac0ec22"
      },
      "source": [
        "c = np.array([-4.5, -6])\n",
        "\n",
        "# Desigualdades\n",
        "A_ub = np.array([\n",
        "    [1, 0],  # x1 <= 400\n",
        "    [0, 1],  # x2 <= 300\n",
        "    [1, 1]   # x1 + x2 <= 500\n",
        "])\n",
        "b_ub = np.array([400, 300, 500])\n",
        "\n",
        "opt.linprog(c, A_ub=A_ub, b_ub=b_ub)"
      ],
      "execution_count": 12,
      "outputs": [
        {
          "output_type": "execute_result",
          "data": {
            "text/plain": [
              "        message: Optimization terminated successfully. (HiGHS Status 7: Optimal)\n",
              "        success: True\n",
              "         status: 0\n",
              "            fun: -2700.0\n",
              "              x: [ 2.000e+02  3.000e+02]\n",
              "            nit: 1\n",
              "          lower:  residual: [ 2.000e+02  3.000e+02]\n",
              "                 marginals: [ 0.000e+00  0.000e+00]\n",
              "          upper:  residual: [       inf        inf]\n",
              "                 marginals: [ 0.000e+00  0.000e+00]\n",
              "          eqlin:  residual: []\n",
              "                 marginals: []\n",
              "        ineqlin:  residual: [ 2.000e+02  0.000e+00  0.000e+00]\n",
              "                 marginals: [-0.000e+00 -1.500e+00 -4.500e+00]\n",
              " mip_node_count: 0\n",
              " mip_dual_bound: 0.0\n",
              "        mip_gap: 0.0"
            ]
          },
          "metadata": {},
          "execution_count": 12
        }
      ]
    },
    {
      "cell_type": "markdown",
      "source": [
        "**Resultados:**\n",
        "\n",
        "El máximo de ingresos es de $ \\$ 2700 $, y esto se logra con 200 unidades de focos incandecentes y 300 de focos ahorradores."
      ],
      "metadata": {
        "id": "KD-Num7w3OnZ"
      }
    },
    {
      "cell_type": "markdown",
      "metadata": {
        "id": "BUUKqkmoPd58"
      },
      "source": [
        "### Problema de compra al mayoreo\n",
        "Un frutero necesita 16 cajas de naranjas, 5 de plátanos y 20 de manzanas. Dos mayoristas pueden suministrarle para satisfacer sus necesidades, pero sólo venden la fruta en contenedores completos. El mayorista A envía en cada contenedor 8 cajas de naranjas, 1 de plátanos y 2 de manzanas. El mayorista B envía en cada contenedor 2 cajas de naranjas, una de plátanos y 7 de manzanas. Sabiendo que cada contenedor del mayorista A tiene un costo de 150 u.m. y el contenedor del mayorista B de 300 u.m., calcular cuántos contenedores habrá de comprar a cada mayorista, con objeto de reducir al mínimo el costo de lo solicitado."
      ]
    },
    {
      "cell_type": "code",
      "execution_count": 14,
      "metadata": {
        "id": "2bezzwq1Pd58",
        "colab": {
          "base_uri": "https://localhost:8080/"
        },
        "outputId": "4c85b270-9fc0-4e8e-d836-6b78818338c2"
      },
      "outputs": [
        {
          "output_type": "execute_result",
          "data": {
            "text/plain": [
              "        message: Optimization terminated successfully. (HiGHS Status 7: Optimal)\n",
              "        success: True\n",
              "         status: 0\n",
              "            fun: 1050.0\n",
              "              x: [ 3.000e+00  2.000e+00]\n",
              "            nit: 3\n",
              "          lower:  residual: [ 3.000e+00  2.000e+00]\n",
              "                 marginals: [ 0.000e+00  0.000e+00]\n",
              "          upper:  residual: [       inf        inf]\n",
              "                 marginals: [ 0.000e+00  0.000e+00]\n",
              "          eqlin:  residual: []\n",
              "                 marginals: []\n",
              "        ineqlin:  residual: [ 1.200e+01  0.000e+00  0.000e+00]\n",
              "                 marginals: [-0.000e+00 -9.000e+01 -3.000e+01]\n",
              " mip_node_count: 0\n",
              " mip_dual_bound: 0.0\n",
              "        mip_gap: 0.0"
            ]
          },
          "metadata": {},
          "execution_count": 14
        }
      ],
      "source": [
        "c = np.array([150, 300])\n",
        "\n",
        "# Desigualdades\n",
        "A_ub = np.array([\n",
        "    [-8, -2],  # Naranjas: 8x1 + 2x2 >= 16  => -8x1 - 2x2 <= -16\n",
        "    [-1, -1],  # Plátanos: 1x1 + 1x2 >= 5   => -1x1 - 1x2 <= -5\n",
        "    [-2, -7]   # Manzanas: 2x1 + 7x2 >= 20  => -2x1 - 7x2 <= -20\n",
        "])\n",
        "b_ub = np.array([-16, -5, -20])\n",
        "\n",
        "opt.linprog(c, A_ub=A_ub, b_ub=b_ub)"
      ]
    },
    {
      "cell_type": "markdown",
      "source": [
        "**Resultados:**\n",
        "\n",
        "El costo mínimo obtenido es de $ \\$ 1050 $ y se logra con 3 contenedores del proveedor A y 2 del B."
      ],
      "metadata": {
        "id": "umiirbd938sJ"
      }
    }
  ],
  "metadata": {
    "kernelspec": {
      "display_name": "Python 3 (ipykernel)",
      "language": "python",
      "name": "python3"
    },
    "language_info": {
      "codemirror_mode": {
        "name": "ipython",
        "version": 3
      },
      "file_extension": ".py",
      "mimetype": "text/x-python",
      "name": "python",
      "nbconvert_exporter": "python",
      "pygments_lexer": "ipython3",
      "version": "3.9.12"
    },
    "colab": {
      "provenance": []
    }
  },
  "nbformat": 4,
  "nbformat_minor": 0
}