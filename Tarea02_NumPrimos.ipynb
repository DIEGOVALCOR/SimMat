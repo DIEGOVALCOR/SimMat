{
  "nbformat": 4,
  "nbformat_minor": 0,
  "metadata": {
    "colab": {
      "provenance": []
    },
    "kernelspec": {
      "name": "python3",
      "display_name": "Python 3"
    },
    "language_info": {
      "name": "python"
    }
  },
  "cells": [
    {
      "cell_type": "markdown",
      "source": [
        "# **Creación de una función para identidicar números primos en un rango determinado**\n",
        "Diego Valencia C.\n",
        "## Comenzamos con la parte lógica:\n",
        "Condiciones que debe cumplir para que sea un número primo:\n",
        "*   Sólo divisible entre sí mismo y uno.\n",
        "\n",
        "\n",
        "\n"
      ],
      "metadata": {
        "id": "-c3ClJ95SBw8"
      }
    },
    {
      "cell_type": "code",
      "source": [
        "# Importamos bibliotecas que podrían ser de utilidad\n",
        "import numpy as np"
      ],
      "metadata": {
        "id": "T4zA-9O-SzF0"
      },
      "execution_count": 43,
      "outputs": []
    },
    {
      "cell_type": "code",
      "source": [
        "# Definimos la función\n",
        "def primos(n):\n",
        "    primos = [1]  # Lista para almacenar primos\n",
        "    for num in range(2, n):    # Revisar cada número desde 2 hasta n\n",
        "        divisores = np.arange(2, num)   # Crear un array de posibles divisores (del 2 al num-1)\n",
        "        es_divisible = (num % divisores == 0)\n",
        "        if not np.any(es_divisible):  # Si no hay divisores, es primo y se agrega a la lista\n",
        "            primos.append(num)\n",
        "    return print(\"Números primos: \", primos) # Mostramos los resultados"
      ],
      "metadata": {
        "id": "pZQwiIQ2TRDH"
      },
      "execution_count": 44,
      "outputs": []
    },
    {
      "cell_type": "markdown",
      "source": [
        "Commprobamos que funcione."
      ],
      "metadata": {
        "id": "WIxJXaMRWUvL"
      }
    },
    {
      "cell_type": "code",
      "source": [
        "entrada = int(input(\"Ingresa un número: \"))\n",
        "primos(entrada)"
      ],
      "metadata": {
        "colab": {
          "base_uri": "https://localhost:8080/"
        },
        "id": "KsTmJDcdWTA9",
        "outputId": "dd640184-a6b4-4508-aa65-a3664f7bce29"
      },
      "execution_count": 45,
      "outputs": [
        {
          "output_type": "stream",
          "name": "stdout",
          "text": [
            "Ingresa un número: 15\n",
            "Números primos:  [1, 2, 3, 5, 7, 11, 13]\n"
          ]
        }
      ]
    },
    {
      "cell_type": "markdown",
      "source": [
        "Ya comprobamos que el código funciona, ahora preguntamos a la IA asistente del entorno que sería Gemini para ver si el código es optimizable:"
      ],
      "metadata": {
        "id": "wiD1Sg2zf-w4"
      }
    },
    {
      "cell_type": "code",
      "source": [
        "import numpy as np\n",
        "\n",
        "def primos_optimizado(lim):\n",
        "    \"\"\"\n",
        "    Finds prime numbers up to 'lim' using the Sieve of Eratosthenes.\n",
        "\n",
        "    Args:\n",
        "        lim: The upper limit (exclusive) to find prime numbers.\n",
        "\n",
        "    Returns:\n",
        "        A list of prime numbers up to 'lim'.\n",
        "    \"\"\"\n",
        "    if lim <= 2:\n",
        "        return []\n",
        "\n",
        "    # Create a boolean array \"is_prime[0..lim-1]\" and initialize\n",
        "    # all entries it as true. A value in is_prime[i] will\n",
        "    # finally be false if i is Not a prime, else true.\n",
        "    is_prime = np.ones(lim, dtype=bool)\n",
        "\n",
        "    # 0 and 1 are not prime numbers, so mark them as False\n",
        "    is_prime[0:2] = False\n",
        "\n",
        "    # Start from p = 2, the first prime number\n",
        "    # We only need to go up to the square root of lim\n",
        "    for p in range(2, int(lim**0.5) + 1):\n",
        "        # If is_prime[p] is not changed, then it is a prime\n",
        "        if is_prime[p]:\n",
        "            # Update all multiples of p\n",
        "            # We start from p*p because smaller multiples would have already been marked\n",
        "            # by their smaller prime factors.\n",
        "            # We use slicing with step 'p' to mark multiples efficiently with numpy.\n",
        "            is_prime[p*p:lim:p] = False\n",
        "\n",
        "    # Collect the prime numbers based on the boolean array\n",
        "    # np.where(is_prime)[0] gives the indices where is_prime is True\n",
        "    prime_numbers = np.where(is_prime)[0]\n",
        "\n",
        "    # Convert the numpy array of prime numbers to a list before returning\n",
        "    return prime_numbers.tolist()\n",
        "\n",
        "# Example usage (you can uncomment this to test the function)\n",
        "# entrada_opt = int(input(\"Ingresa un número para la versión optimizada: \"))\n",
        "# resultado_primos_opt = primos_optimizado(entrada_opt)\n",
        "# print(\"Números primos (optimizado):\", resultado_primos_opt)"
      ],
      "metadata": {
        "id": "_-sXVXk1gNQl"
      },
      "execution_count": 46,
      "outputs": []
    },
    {
      "cell_type": "code",
      "source": [
        "entry = int(input(\"Ingresa un número: \"))\n",
        "primos_optimizado(entry)"
      ],
      "metadata": {
        "colab": {
          "base_uri": "https://localhost:8080/"
        },
        "id": "fw-t25vkhJwa",
        "outputId": "2ea884f3-b3f4-468a-fd6c-5c76ee73e5d7"
      },
      "execution_count": 47,
      "outputs": [
        {
          "name": "stdout",
          "output_type": "stream",
          "text": [
            "Ingresa un número: 15\n"
          ]
        },
        {
          "output_type": "execute_result",
          "data": {
            "text/plain": [
              "[2, 3, 5, 7, 11, 13]"
            ]
          },
          "metadata": {},
          "execution_count": 47
        }
      ]
    },
    {
      "cell_type": "markdown",
      "source": [
        "Notamos diferentes puntos que fueron optimizados entre ellos:\n",
        "*   Reduce el número de iteraciones de forma que si en el primero duplicaras el número del argumento, se podría alargar el trabajo computacional 0(n) para cada n en el rango de lim, mientras que en el nuevo, en el peor de los casos si se duplica el argumento, se obtendría solamente cuatro veces mas iteraciones.\n",
        "*   El nuevo codigo está aun mas optimizado, ya que usa un principio de Erastothenes que se encarga de no solo tomar las operaciones con cada número, sino de eliminar todos los números múltiplos de números que ya hayan sido detectados para descartar exponencialmente el número de iteraciones."
      ],
      "metadata": {
        "id": "8tt4LpFihca5"
      }
    }
  ]
}